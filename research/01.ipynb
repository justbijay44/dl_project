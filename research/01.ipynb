{
 "cells": [
  {
   "cell_type": "markdown",
   "id": "d7eddc74",
   "metadata": {},
   "source": [
    "## Data Ingestion"
   ]
  },
  {
   "cell_type": "code",
   "execution_count": 29,
   "id": "7619ec43",
   "metadata": {},
   "outputs": [],
   "source": [
    "from collections import namedtuple # gives the flexibility of combining tuple + dict + lightweight\n",
    "import os\n",
    "\n",
    "DataIngestionConfig = namedtuple(\"DataIngestionConfig\", \n",
    "    [\n",
    "        \"root_dir\",\n",
    "        \"source_url\",\n",
    "        \"local_data_files\",\n",
    "        \"unzip_dir\",\n",
    "    ])"
   ]
  },
  {
   "cell_type": "code",
   "execution_count": 33,
   "id": "6586520b",
   "metadata": {},
   "outputs": [
    {
     "data": {
      "text/plain": [
       "'c:\\\\Users\\\\Bijay\\\\Downloads\\\\DJANGO_PROJECTS\\\\ML\\\\dl_project'"
      ]
     },
     "execution_count": 33,
     "metadata": {},
     "output_type": "execute_result"
    }
   ],
   "source": [
    "%pwd"
   ]
  },
  {
   "cell_type": "code",
   "execution_count": null,
   "id": "89721061",
   "metadata": {},
   "outputs": [],
   "source": [
    "# os.chdir(\"dl_project\")"
   ]
  },
  {
   "cell_type": "code",
   "execution_count": 34,
   "id": "888765c5",
   "metadata": {},
   "outputs": [
    {
     "data": {
      "text/plain": [
       "'c:\\\\Users\\\\Bijay\\\\Downloads\\\\DJANGO_PROJECTS\\\\ML\\\\dl_project'"
      ]
     },
     "execution_count": 34,
     "metadata": {},
     "output_type": "execute_result"
    }
   ],
   "source": [
    "%pwd"
   ]
  },
  {
   "cell_type": "code",
   "execution_count": 35,
   "id": "8c0a6275",
   "metadata": {},
   "outputs": [],
   "source": [
    "# from dataclasses import dataclass\n",
    "# from pathlib import Path\n",
    "\n",
    "# @dataclass(frozen=True)\n",
    "# class DataIngestionConfig:\n",
    "#     root_dir: Path\n",
    "#     source_url: str\n",
    "#     local_data_files: Path\n",
    "#     unzip_dir: Path"
   ]
  },
  {
   "cell_type": "code",
   "execution_count": 36,
   "id": "ff81007c",
   "metadata": {},
   "outputs": [],
   "source": [
    "from cnnClassifier.constants import *\n",
    "from cnnClassifier.utils import read_yaml, create_dir"
   ]
  },
  {
   "cell_type": "code",
   "execution_count": 37,
   "id": "79553cd7",
   "metadata": {},
   "outputs": [],
   "source": [
    "class ConfigurationManager:\n",
    "    def __init__(self, config_filepath = CONFIG_FILE_PATH, param_filepath = PARAM_FILE_PATH):\n",
    "        self.config = read_yaml(config_filepath)\n",
    "        self.params = read_yaml(param_filepath)\n",
    "\n",
    "        create_dir([self.config.artifacts_root])\n",
    "\n",
    "    def get_data_ingestion_config(self) -> DataIngestionConfig:\n",
    "        \n",
    "        config = self.config.data_ingestion\n",
    "\n",
    "        data_ingestion_config = DataIngestionConfig(\n",
    "            root_dir =  config.root_dir,\n",
    "            source_url = config.source_url,\n",
    "            local_data_files = config.local_data_files,\n",
    "            unzip_dir = config.unzip_dir\n",
    "        )\n",
    "\n",
    "        return data_ingestion_config"
   ]
  },
  {
   "cell_type": "code",
   "execution_count": 38,
   "id": "8fde44de",
   "metadata": {},
   "outputs": [],
   "source": [
    "import urllib.request as request\n",
    "from zipfile import ZipFile"
   ]
  },
  {
   "cell_type": "code",
   "execution_count": 44,
   "id": "c81310dc",
   "metadata": {},
   "outputs": [],
   "source": [
    "class DataIngestion:\n",
    "    def __init__(self, config: DataIngestionConfig):\n",
    "        self.config = config\n",
    "\n",
    "    def download_file(self):\n",
    "        # os.makedirs(os.path.dirname(self.config.local_data_files), exist_ok=True)\n",
    "        \n",
    "        if not os.path.exists(self.config.local_data_files):\n",
    "            filename, headers = request.urlretrieve(\n",
    "                url = self.config.source_url,\n",
    "                filename= self.config.local_data_files\n",
    "            )\n",
    "\n",
    "    # _sth are hidden methods from the user that developers can only access\n",
    "    \n",
    "    def _get_updated_list_of_files(self, list_of_files):\n",
    "        return [f for f in list_of_files if f.endswith('.jpg') and ('Cat' in f or 'Dog' in f)]\n",
    "    \n",
    "    def _preprocess(self, zf: ZipFile, f: str, working_dir: str):\n",
    "        target_filepath = os.path.join(working_dir, f)\n",
    "        if not os.path.exists(target_filepath):\n",
    "            zf.extract(f, working_dir)\n",
    "        \n",
    "        if os.path.getsize(target_filepath) == 0:\n",
    "            os.remove(target_filepath)\n",
    "    \n",
    "    def unzip_n_clean(self):\n",
    "        with ZipFile(file = self.config.local_data_files, mode='r') as zf:\n",
    "            list_of_files = zf.namelist()\n",
    "            updated_list = self._get_updated_list_of_files(list_of_files)\n",
    "\n",
    "            for f in updated_list:\n",
    "                self._preprocess(zf, f, self.config.unzip_dir)    "
   ]
  },
  {
   "cell_type": "code",
   "execution_count": 45,
   "id": "954ea364",
   "metadata": {},
   "outputs": [
    {
     "name": "stdout",
     "output_type": "stream",
     "text": [
      "[2025-09-07 23:33:58,732: INFO: common_cmd: Yaml file : config\\config.yaml loaded successfully]\n",
      "[2025-09-07 23:33:58,735: INFO: common_cmd: Yaml file : params.yaml loaded successfully]\n",
      "[2025-09-07 23:33:58,736: INFO: common_cmd: Directory created succesfully at artifacts]\n"
     ]
    }
   ],
   "source": [
    "try:\n",
    "    config = ConfigurationManager()\n",
    "    data_ingestion_config = config.get_data_ingestion_config()\n",
    "    data_ingestion = DataIngestion(config=data_ingestion_config)\n",
    "    data_ingestion.download_file()\n",
    "    data_ingestion.unzip_n_clean()\n",
    "\n",
    "except Exception as e:\n",
    "    raise e"
   ]
  },
  {
   "cell_type": "code",
   "execution_count": null,
   "id": "105e7c86",
   "metadata": {},
   "outputs": [],
   "source": []
  }
 ],
 "metadata": {
  "kernelspec": {
   "display_name": "cnncls",
   "language": "python",
   "name": "python3"
  },
  "language_info": {
   "codemirror_mode": {
    "name": "ipython",
    "version": 3
   },
   "file_extension": ".py",
   "mimetype": "text/x-python",
   "name": "python",
   "nbconvert_exporter": "python",
   "pygments_lexer": "ipython3",
   "version": "3.10.0"
  }
 },
 "nbformat": 4,
 "nbformat_minor": 5
}
